{
 "cells": [
  {
   "cell_type": "markdown",
   "id": "fbef1488",
   "metadata": {},
   "source": [
    "# Case de ML Insider\n",
    "\n",
    "Os objetivos deste notebook são:\n",
    "\n",
    "1. Explorar dados do Titanic, verficar tipos de dados (se estão faltando, quais eles são e como proceder para selecionar features mais significativas)\n",
    "   1. Daqui poderemos desenvolver estrutura para validação de payloads com Pydantic\n",
    "2. Desenvolver o processo de feature engineering\n",
    "   1. Daqui poderemos desenvolver o pipeline que precisa ser colocado na endpoint de predição da API\n",
    "3. Desenvolver pipeline de treinamento do modelo\n",
    "   1. Daqui poderemos exportar modelo de IA oferecido pela API "
   ]
  },
  {
   "cell_type": "code",
   "execution_count": 9,
   "id": "17be0847",
   "metadata": {},
   "outputs": [],
   "source": [
    "import sys\n",
    "sys.path.append('..')\n",
    "import pandas as pd\n",
    "import numpy as np\n",
    "import matplotlib.pyplot as plt\n",
    "import seaborn as sns\n",
    "import sys\n",
    "from app.custom_transformers import AloneFeatureCreator,AgeBinner\n",
    "\n",
    " "
   ]
  },
  {
   "cell_type": "markdown",
   "id": "22abef5e",
   "metadata": {},
   "source": [
    "## Etapa 1\n",
    "\n"
   ]
  },
  {
   "cell_type": "markdown",
   "id": "7e8b2d05",
   "metadata": {},
   "source": [
    "### Exploração dos dados"
   ]
  },
  {
   "cell_type": "code",
   "execution_count": 10,
   "id": "d1c7ce4c",
   "metadata": {},
   "outputs": [
    {
     "data": {
      "text/html": [
       "<div>\n",
       "<style scoped>\n",
       "    .dataframe tbody tr th:only-of-type {\n",
       "        vertical-align: middle;\n",
       "    }\n",
       "\n",
       "    .dataframe tbody tr th {\n",
       "        vertical-align: top;\n",
       "    }\n",
       "\n",
       "    .dataframe thead th {\n",
       "        text-align: right;\n",
       "    }\n",
       "</style>\n",
       "<table border=\"1\" class=\"dataframe\">\n",
       "  <thead>\n",
       "    <tr style=\"text-align: right;\">\n",
       "      <th></th>\n",
       "      <th>PassengerId</th>\n",
       "      <th>Survived</th>\n",
       "      <th>Pclass</th>\n",
       "      <th>Name</th>\n",
       "      <th>Sex</th>\n",
       "      <th>Age</th>\n",
       "      <th>SibSp</th>\n",
       "      <th>Parch</th>\n",
       "      <th>Ticket</th>\n",
       "      <th>Fare</th>\n",
       "      <th>Cabin</th>\n",
       "      <th>Embarked</th>\n",
       "    </tr>\n",
       "  </thead>\n",
       "  <tbody>\n",
       "    <tr>\n",
       "      <th>0</th>\n",
       "      <td>1</td>\n",
       "      <td>0</td>\n",
       "      <td>3</td>\n",
       "      <td>Braund, Mr. Owen Harris</td>\n",
       "      <td>male</td>\n",
       "      <td>22.0</td>\n",
       "      <td>1</td>\n",
       "      <td>0</td>\n",
       "      <td>A/5 21171</td>\n",
       "      <td>7.2500</td>\n",
       "      <td>NaN</td>\n",
       "      <td>S</td>\n",
       "    </tr>\n",
       "    <tr>\n",
       "      <th>1</th>\n",
       "      <td>2</td>\n",
       "      <td>1</td>\n",
       "      <td>1</td>\n",
       "      <td>Cumings, Mrs. John Bradley (Florence Briggs Th...</td>\n",
       "      <td>female</td>\n",
       "      <td>38.0</td>\n",
       "      <td>1</td>\n",
       "      <td>0</td>\n",
       "      <td>PC 17599</td>\n",
       "      <td>71.2833</td>\n",
       "      <td>C85</td>\n",
       "      <td>C</td>\n",
       "    </tr>\n",
       "    <tr>\n",
       "      <th>2</th>\n",
       "      <td>3</td>\n",
       "      <td>1</td>\n",
       "      <td>3</td>\n",
       "      <td>Heikkinen, Miss. Laina</td>\n",
       "      <td>female</td>\n",
       "      <td>26.0</td>\n",
       "      <td>0</td>\n",
       "      <td>0</td>\n",
       "      <td>STON/O2. 3101282</td>\n",
       "      <td>7.9250</td>\n",
       "      <td>NaN</td>\n",
       "      <td>S</td>\n",
       "    </tr>\n",
       "    <tr>\n",
       "      <th>3</th>\n",
       "      <td>4</td>\n",
       "      <td>1</td>\n",
       "      <td>1</td>\n",
       "      <td>Futrelle, Mrs. Jacques Heath (Lily May Peel)</td>\n",
       "      <td>female</td>\n",
       "      <td>35.0</td>\n",
       "      <td>1</td>\n",
       "      <td>0</td>\n",
       "      <td>113803</td>\n",
       "      <td>53.1000</td>\n",
       "      <td>C123</td>\n",
       "      <td>S</td>\n",
       "    </tr>\n",
       "    <tr>\n",
       "      <th>4</th>\n",
       "      <td>5</td>\n",
       "      <td>0</td>\n",
       "      <td>3</td>\n",
       "      <td>Allen, Mr. William Henry</td>\n",
       "      <td>male</td>\n",
       "      <td>35.0</td>\n",
       "      <td>0</td>\n",
       "      <td>0</td>\n",
       "      <td>373450</td>\n",
       "      <td>8.0500</td>\n",
       "      <td>NaN</td>\n",
       "      <td>S</td>\n",
       "    </tr>\n",
       "  </tbody>\n",
       "</table>\n",
       "</div>"
      ],
      "text/plain": [
       "   PassengerId  Survived  Pclass  \\\n",
       "0            1         0       3   \n",
       "1            2         1       1   \n",
       "2            3         1       3   \n",
       "3            4         1       1   \n",
       "4            5         0       3   \n",
       "\n",
       "                                                Name     Sex   Age  SibSp  \\\n",
       "0                            Braund, Mr. Owen Harris    male  22.0      1   \n",
       "1  Cumings, Mrs. John Bradley (Florence Briggs Th...  female  38.0      1   \n",
       "2                             Heikkinen, Miss. Laina  female  26.0      0   \n",
       "3       Futrelle, Mrs. Jacques Heath (Lily May Peel)  female  35.0      1   \n",
       "4                           Allen, Mr. William Henry    male  35.0      0   \n",
       "\n",
       "   Parch            Ticket     Fare Cabin Embarked  \n",
       "0      0         A/5 21171   7.2500   NaN        S  \n",
       "1      0          PC 17599  71.2833   C85        C  \n",
       "2      0  STON/O2. 3101282   7.9250   NaN        S  \n",
       "3      0            113803  53.1000  C123        S  \n",
       "4      0            373450   8.0500   NaN        S  "
      ]
     },
     "execution_count": 10,
     "metadata": {},
     "output_type": "execute_result"
    }
   ],
   "source": [
    "data = pd.read_csv(\"../data/Titanic-Dataset.csv\")\n",
    "data.head()"
   ]
  },
  {
   "cell_type": "code",
   "execution_count": 11,
   "id": "7001cc2a",
   "metadata": {},
   "outputs": [
    {
     "name": "stdout",
     "output_type": "stream",
     "text": [
      "<class 'pandas.core.frame.DataFrame'>\n",
      "RangeIndex: 891 entries, 0 to 890\n",
      "Data columns (total 12 columns):\n",
      " #   Column       Non-Null Count  Dtype  \n",
      "---  ------       --------------  -----  \n",
      " 0   PassengerId  891 non-null    int64  \n",
      " 1   Survived     891 non-null    int64  \n",
      " 2   Pclass       891 non-null    int64  \n",
      " 3   Name         891 non-null    object \n",
      " 4   Sex          891 non-null    object \n",
      " 5   Age          714 non-null    float64\n",
      " 6   SibSp        891 non-null    int64  \n",
      " 7   Parch        891 non-null    int64  \n",
      " 8   Ticket       891 non-null    object \n",
      " 9   Fare         891 non-null    float64\n",
      " 10  Cabin        204 non-null    object \n",
      " 11  Embarked     889 non-null    object \n",
      "dtypes: float64(2), int64(5), object(5)\n",
      "memory usage: 83.7+ KB\n"
     ]
    }
   ],
   "source": [
    "data.info()"
   ]
  },
  {
   "cell_type": "code",
   "execution_count": 12,
   "id": "4b08eafd",
   "metadata": {},
   "outputs": [
    {
     "data": {
      "text/html": [
       "<div>\n",
       "<style scoped>\n",
       "    .dataframe tbody tr th:only-of-type {\n",
       "        vertical-align: middle;\n",
       "    }\n",
       "\n",
       "    .dataframe tbody tr th {\n",
       "        vertical-align: top;\n",
       "    }\n",
       "\n",
       "    .dataframe thead th {\n",
       "        text-align: right;\n",
       "    }\n",
       "</style>\n",
       "<table border=\"1\" class=\"dataframe\">\n",
       "  <thead>\n",
       "    <tr style=\"text-align: right;\">\n",
       "      <th></th>\n",
       "      <th>PassengerId</th>\n",
       "      <th>Survived</th>\n",
       "      <th>Pclass</th>\n",
       "      <th>Age</th>\n",
       "      <th>SibSp</th>\n",
       "      <th>Parch</th>\n",
       "      <th>Fare</th>\n",
       "    </tr>\n",
       "  </thead>\n",
       "  <tbody>\n",
       "    <tr>\n",
       "      <th>count</th>\n",
       "      <td>891.000000</td>\n",
       "      <td>891.000000</td>\n",
       "      <td>891.000000</td>\n",
       "      <td>714.000000</td>\n",
       "      <td>891.000000</td>\n",
       "      <td>891.000000</td>\n",
       "      <td>891.000000</td>\n",
       "    </tr>\n",
       "    <tr>\n",
       "      <th>mean</th>\n",
       "      <td>446.000000</td>\n",
       "      <td>0.383838</td>\n",
       "      <td>2.308642</td>\n",
       "      <td>29.699118</td>\n",
       "      <td>0.523008</td>\n",
       "      <td>0.381594</td>\n",
       "      <td>32.204208</td>\n",
       "    </tr>\n",
       "    <tr>\n",
       "      <th>std</th>\n",
       "      <td>257.353842</td>\n",
       "      <td>0.486592</td>\n",
       "      <td>0.836071</td>\n",
       "      <td>14.526497</td>\n",
       "      <td>1.102743</td>\n",
       "      <td>0.806057</td>\n",
       "      <td>49.693429</td>\n",
       "    </tr>\n",
       "    <tr>\n",
       "      <th>min</th>\n",
       "      <td>1.000000</td>\n",
       "      <td>0.000000</td>\n",
       "      <td>1.000000</td>\n",
       "      <td>0.420000</td>\n",
       "      <td>0.000000</td>\n",
       "      <td>0.000000</td>\n",
       "      <td>0.000000</td>\n",
       "    </tr>\n",
       "    <tr>\n",
       "      <th>25%</th>\n",
       "      <td>223.500000</td>\n",
       "      <td>0.000000</td>\n",
       "      <td>2.000000</td>\n",
       "      <td>20.125000</td>\n",
       "      <td>0.000000</td>\n",
       "      <td>0.000000</td>\n",
       "      <td>7.910400</td>\n",
       "    </tr>\n",
       "    <tr>\n",
       "      <th>50%</th>\n",
       "      <td>446.000000</td>\n",
       "      <td>0.000000</td>\n",
       "      <td>3.000000</td>\n",
       "      <td>28.000000</td>\n",
       "      <td>0.000000</td>\n",
       "      <td>0.000000</td>\n",
       "      <td>14.454200</td>\n",
       "    </tr>\n",
       "    <tr>\n",
       "      <th>75%</th>\n",
       "      <td>668.500000</td>\n",
       "      <td>1.000000</td>\n",
       "      <td>3.000000</td>\n",
       "      <td>38.000000</td>\n",
       "      <td>1.000000</td>\n",
       "      <td>0.000000</td>\n",
       "      <td>31.000000</td>\n",
       "    </tr>\n",
       "    <tr>\n",
       "      <th>max</th>\n",
       "      <td>891.000000</td>\n",
       "      <td>1.000000</td>\n",
       "      <td>3.000000</td>\n",
       "      <td>80.000000</td>\n",
       "      <td>8.000000</td>\n",
       "      <td>6.000000</td>\n",
       "      <td>512.329200</td>\n",
       "    </tr>\n",
       "  </tbody>\n",
       "</table>\n",
       "</div>"
      ],
      "text/plain": [
       "       PassengerId    Survived      Pclass         Age       SibSp  \\\n",
       "count   891.000000  891.000000  891.000000  714.000000  891.000000   \n",
       "mean    446.000000    0.383838    2.308642   29.699118    0.523008   \n",
       "std     257.353842    0.486592    0.836071   14.526497    1.102743   \n",
       "min       1.000000    0.000000    1.000000    0.420000    0.000000   \n",
       "25%     223.500000    0.000000    2.000000   20.125000    0.000000   \n",
       "50%     446.000000    0.000000    3.000000   28.000000    0.000000   \n",
       "75%     668.500000    1.000000    3.000000   38.000000    1.000000   \n",
       "max     891.000000    1.000000    3.000000   80.000000    8.000000   \n",
       "\n",
       "            Parch        Fare  \n",
       "count  891.000000  891.000000  \n",
       "mean     0.381594   32.204208  \n",
       "std      0.806057   49.693429  \n",
       "min      0.000000    0.000000  \n",
       "25%      0.000000    7.910400  \n",
       "50%      0.000000   14.454200  \n",
       "75%      0.000000   31.000000  \n",
       "max      6.000000  512.329200  "
      ]
     },
     "execution_count": 12,
     "metadata": {},
     "output_type": "execute_result"
    }
   ],
   "source": [
    "data.describe()"
   ]
  },
  {
   "cell_type": "markdown",
   "id": "46f8b6cb",
   "metadata": {},
   "source": [
    "O dataset tem as seguintes variaveis:\n",
    "\n",
    "- PassengerId (int): Id do passageiro, não vai ser importante para predições, vamos dropar ele\n",
    "\n",
    "- Name (string): Nome do passageiro, vamos dropar\n",
    "\n",
    "- Cabin (string) : Cabine do passageiro. Poderia ser útil pelo padrão do nome da cabine. Exemplo: C85, o C provavelmente é uma área do Titanic com uma localização espefica. Faz sentido chances de sobrevivencia serem afetadas por localidade mais próvavel do passageiro, mas como tem muitos dados nulos, vamos dropar também.\n",
    "\n",
    "- Sex (string) :  Genero do passageiro. Faz sentido usar essa variavel. A evacuação de mulheres é priorizada em acidentes, especialemente se tiverem filhos. Como é variavel categorica, vamos fazer one-hot-enconding. Talvez seja possivel usar 0 para homem e 1 para mulher, nesse caso teria uma correlação positiva entre numero do gênero e sobrevivencia. Vamos explorar se realmente mais mulheres sobreviveram.\n",
    "\n",
    "- Survived (int): Sobreviveu ou não (1 ou 0).\n",
    "\n",
    "- Pclass (int): Significa classe economica do passageiro em que:\n",
    "   - 1 = Classe mais alta\n",
    "   - 2 = Classe média\n",
    "   - 3 = Classe baixa\n",
    "   São esses três apenas os valores possiveis, isso vai ser importante para validar o nosso payload. Isso provavelmente vai ter correlação negativa com survived então também vamos manter nesse formato.\n",
    "\n",
    "- Age (float): Idade do passageiro. Importante mas pretendo categorizar em criança, adolescente, jovem, meia-idade e idoso (vamos plotar a distribuição para ver o que faz mais sentido). Tem alguns dados faltantes, podemos imputar a mediana neles para não perder essa info.  \n",
    "\n",
    "- SibSp (int): Número de esposos e irmãos a bordo. Pode ser útil\n",
    "\n",
    "- Parch (int): Número de pais e filhos a bordo. Pode ser combinado com SibSp para termos tamanho do grupo do passageiro \n",
    "\n",
    "- Fare: Quanto pagou na passagem. Parece ter muita relação com Pclass, mas podem ter passageiros de classe média ou baixa que juntaram dinheiro para pagar o ticket e por isso, estavam em posições mais seguras do titanic. Vamos manter essa variavel e verifcar distribuição dela para possiveis outliers.\n",
    "\n",
    "- Embarked (string): Significa em porto o passageiro embarcou  (C = Cherbourg; Q = Queenstown; S = Southampton). Faz sentido dropar isso."
   ]
  },
  {
   "cell_type": "markdown",
   "id": "b516d25f",
   "metadata": {},
   "source": [
    "### Plano de ação\n",
    "\n",
    "- A partir dessas análises, o plano agora é o seguinte:\n",
    "1. Pipeline de processamento vai dropar PassengerId, Embarked, Name, Cabin\n",
    "\n",
    "2. Verificar relação de genero de passageiro com survived para decidir melhor estratégia de codificação da string\n",
    "\n",
    "3. Verificar distribuição de idade para ver quais categorias fazem sentido\n",
    "\n",
    "4. Verificar relação de SibSp e Parch com survived e ver se podemos combiná-las\n",
    "\n",
    "5. Verificar relação de fare com survived e Pclass (provalvelmente está bem correlacionado com fare)\n",
    "\n",
    "6. Confirmar que PClass está associado com maiores chances de sobrevivência"
   ]
  },
  {
   "cell_type": "markdown",
   "id": "1237fa4e",
   "metadata": {},
   "source": [
    "### Vericação de relação de genero com chances de sobrevivencia"
   ]
  },
  {
   "cell_type": "code",
   "execution_count": 13,
   "id": "5727d3b9",
   "metadata": {},
   "outputs": [
    {
     "name": "stdout",
     "output_type": "stream",
     "text": [
      "\n",
      "Contagens:\n",
      "Survived    0    1\n",
      "Sex               \n",
      "female     81  233\n",
      "male      468  109\n",
      "\n",
      "Totais:\n",
      "Sex\n",
      "female    314\n",
      "male      577\n",
      "dtype: int64\n",
      "\n",
      "Porcentagens de sobrevivência\n",
      "Survived         0         1\n",
      "Sex                         \n",
      "female    0.257962  0.742038\n",
      "male      0.811092  0.188908\n"
     ]
    }
   ],
   "source": [
    "# Contagens absolutas\n",
    "survival_counts = data.groupby(['Sex', 'Survived']).size().unstack(fill_value=0)\n",
    "print(\"\\nContagens:\")\n",
    "print(survival_counts)\n",
    "\n",
    "# Calculo dos totais\n",
    "row_totals = survival_counts.sum(axis=1)\n",
    "print(\"\\nTotais:\")\n",
    "print(row_totals)\n",
    "\n",
    "# Divide each row by its total to get percentages\n",
    "survival_percentages = survival_counts.div(row_totals, axis=0)\n",
    "print(\"\\nPorcentagens de sobrevivência\")\n",
    "print(survival_percentages)"
   ]
  },
  {
   "cell_type": "markdown",
   "id": "30b541bf",
   "metadata": {},
   "source": [
    "Essa análise confirma que mulheres sobreviveram bem mais que homens. Vamos usar 0 para male e 1 para female na codificação de variaveis categoricas."
   ]
  },
  {
   "cell_type": "markdown",
   "id": "104ada24",
   "metadata": {},
   "source": [
    "### Exploração de relação idade com chances de sobrevivência"
   ]
  },
  {
   "cell_type": "code",
   "execution_count": 14,
   "id": "784b06d8",
   "metadata": {},
   "outputs": [
    {
     "data": {
      "image/png": "[encoded data removed]",
      "text/plain": [
       "<Figure size 640x480 with 1 Axes>"
      ]
     },
     "metadata": {},
     "output_type": "display_data"
    }
   ],
   "source": [
    "data['Age'].hist()\n",
    "plt.title('Distribuição de Idade (Pandas .hist())')\n",
    "plt.xlabel('Age')\n",
    "plt.ylabel('Frequencia')\n",
    "plt.grid(axis='y', alpha=0.75) \n",
    "plt.show() "
   ]
  },
  {
   "cell_type": "markdown",
   "id": "5b6f7aa6",
   "metadata": {},
   "source": [
    "Parece que usar a mediana para imputar dados não é má ideia, vai assumir que o passageiro tem por volta de 30 anos. Olhando para o gráfico, parece fazer sentido dividir a idade em três grupos. Jovens entre 0 e 18, Adultos 18 e 50 e Idosos de 50 para cima. Vamos ver se isso tem relação com chance de sobrevivencia. "
   ]
  },
  {
   "cell_type": "code",
   "execution_count": 15,
   "id": "ec910b41",
   "metadata": {},
   "outputs": [
    {
     "name": "stdout",
     "output_type": "stream",
     "text": [
      "\n",
      "--- Contagem de Sobrevivência por AgeGroup ---\n",
      "Survived    0    1\n",
      "AgeGroup          \n",
      "0-18       52   61\n",
      "18-50     353  222\n",
      "50+        19    7\n",
      "\n",
      "--- Porcentagem de Sobrevivência por AgeGroup  ---\n",
      "Survived      0      1\n",
      "AgeGroup              \n",
      "0-18      46.02  53.98\n",
      "18-50     61.39  38.61\n",
      "50+       73.08  26.92\n"
     ]
    }
   ],
   "source": [
    "# Faço uma cópia do dataframe para criar a coluna AgeGroup porque não quero alterar o anterior\n",
    "df_copy = data.copy()\n",
    "\n",
    "\n",
    "\n",
    "bins = [0, 18, 60, np.inf]\n",
    "labels = ['0-18', '18-50', '50+']\n",
    "\n",
    "df_copy['AgeGroup'] = pd.cut(df_copy['Age'], bins=bins, labels=labels, right=False)\n",
    "\n",
    "\n",
    "#Contagens absolutas de sobrevivência\n",
    "age_group_survival_counts = pd.crosstab(df_copy['AgeGroup'], df_copy['Survived'])\n",
    "print(\"\\n--- Contagem de Sobrevivência por AgeGroup ---\")\n",
    "print(age_group_survival_counts)\n",
    "\n",
    "#Porcentagens de sobrevivência\n",
    "age_group_survival_percentages = pd.crosstab(df_copy['AgeGroup'], df_copy['Survived'], normalize='index') * 100\n",
    "print(\"\\n--- Porcentagem de Sobrevivência por AgeGroup  ---\")\n",
    "print(age_group_survival_percentages.round(2))\n",
    "\n"
   ]
  },
  {
   "cell_type": "markdown",
   "id": "c17ba03d",
   "metadata": {},
   "source": [
    "Por essa analise, temos alguns pontos:\n",
    "- Tem poucas pessoas maiores de 50 anos, não faz sentido ter categoria idoso\n",
    "- Pessoas menores de 18 anos sobreviveram mais percentualmente\n",
    "Talvez faça sentido tratar idade como variavel binária (menor ou maior de 18 anos)\n",
    "\n",
    "Vamos fazer um histograma por sobrevivência para confirmar"
   ]
  },
  {
   "cell_type": "code",
   "execution_count": 16,
   "id": "f548a538",
   "metadata": {},
   "outputs": [
    {
     "data": {
      "image/png": "[encoded data removed]",
      "text/plain": [
       "<Figure size 1000x600 with 1 Axes>"
      ]
     },
     "metadata": {},
     "output_type": "display_data"
    }
   ],
   "source": [
    "# Ensure 'Age' is within a reasonable range (e.g., 1 to 90)\n",
    "data['Age'] = data['Age'].apply(lambda x: max(1, min(90, x)))\n",
    "\n",
    "# Convert 'Survived' to a categorical label for better readability in the legend\n",
    "data['Survived_Label'] = data['Survived'].map({0: 'Não Sobreviveu', 1: 'Sobreviveu'})\n",
    "\n",
    "\n",
    "plt.figure(figsize=(10, 6)) # Set the figure size for better visualization\n",
    "sns.histplot(data=data, x='Age', hue='Survived_Label', bins=20, kde=True, palette='viridis', common_norm=False)\n",
    "\n",
    "\n",
    "plt.title('Distribuição de Idade por Sobrevivência', fontsize=16)\n",
    "plt.xlabel('Idade', fontsize=12)\n",
    "plt.ylabel('Frequencia', fontsize=12)\n",
    "\n",
    "plt.grid(axis='y', alpha=0.75)\n",
    "\n",
    "plt.show()"
   ]
  },
  {
   "cell_type": "markdown",
   "id": "1ad4a56f",
   "metadata": {},
   "source": [
    "Baseado no histograma, decidi tranformar idade em binario como 1 para menor de 18 e 0 para maior de 18. Vamos usar mediana para imputar dados que faltam."
   ]
  },
  {
   "cell_type": "markdown",
   "id": "b66b308c",
   "metadata": {},
   "source": [
    "### Verificação de Fare com chances de sobrevivência"
   ]
  },
  {
   "cell_type": "code",
   "execution_count": 17,
   "id": "37503e57",
   "metadata": {},
   "outputs": [
    {
     "data": {
      "image/png": "[encoded data removed]",
      "text/plain": [
       "<Figure size 640x480 with 1 Axes>"
      ]
     },
     "metadata": {},
     "output_type": "display_data"
    }
   ],
   "source": [
    "data['Fare'].hist()\n",
    "plt.title('Distribuição de Fare (Pandas .hist())')\n",
    "plt.xlabel('Fare')\n",
    "plt.ylabel('Frequencia')\n",
    "plt.grid(axis='y', alpha=0.75)\n",
    "plt.show() "
   ]
  },
  {
   "cell_type": "code",
   "execution_count": 18,
   "id": "ef81bf6d",
   "metadata": {},
   "outputs": [
    {
     "data": {
      "text/plain": [
       "count    891.000000\n",
       "mean      32.204208\n",
       "std       49.693429\n",
       "min        0.000000\n",
       "25%        7.910400\n",
       "50%       14.454200\n",
       "75%       31.000000\n",
       "max      512.329200\n",
       "Name: Fare, dtype: float64"
      ]
     },
     "execution_count": 18,
     "metadata": {},
     "output_type": "execute_result"
    }
   ],
   "source": [
    "data[\"Fare\"].describe()"
   ]
  },
  {
   "cell_type": "markdown",
   "id": "0bc146ea",
   "metadata": {},
   "source": [
    "Os outlier parecem mascarar os gráfico, temos que ajustar esse preço para inflação. Diferença entre 7 e 34 dolares,por exemplo pode ser significativa para época. Vamos plotar as diferenças retirando os valores acima de 100 dolares."
   ]
  },
  {
   "cell_type": "code",
   "execution_count": 19,
   "id": "7a70cda0",
   "metadata": {},
   "outputs": [
    {
     "data": {
      "image/png": "[encoded data removed]",
      "text/plain": [
       "<Figure size 640x480 with 1 Axes>"
      ]
     },
     "metadata": {},
     "output_type": "display_data"
    }
   ],
   "source": [
    "fare_below_100 = data[data['Fare'] < 100]['Fare']\n",
    "\n",
    "\n",
    "fare_below_100.hist()\n",
    "plt.title('Distribuição de Fare (Valores abaixo de $100)')\n",
    "plt.xlabel('Fare')\n",
    "plt.ylabel('Frequencia')\n",
    "plt.grid(axis='y', alpha=0.75) \n",
    "plt.show() "
   ]
  },
  {
   "cell_type": "markdown",
   "id": "7b9d1d31",
   "metadata": {},
   "source": [
    "Realmente, tem uma distribuição mais enunciada entre 0 e 100. Vamos ver a relação de fare com survived. Deve ser melhor faz um box plot para isso.\n"
   ]
  },
  {
   "cell_type": "code",
   "execution_count": 20,
   "id": "ce019106",
   "metadata": {},
   "outputs": [
    {
     "name": "stderr",
     "output_type": "stream",
     "text": [
      "/tmp/ipykernel_83514/2058424722.py:8: FutureWarning: \n",
      "\n",
      "Passing `palette` without assigning `hue` is deprecated and will be removed in v0.14.0. Assign the `x` variable to `hue` and set `legend=False` for the same effect.\n",
      "\n",
      "  sns.boxplot(data=data, x='Survived_Label', y='Fare', palette='viridis')\n"
     ]
    },
    {
     "data": {
      "image/png": "[encoded data removed]",
      "text/plain": [
       "<Figure size 800x600 with 1 Axes>"
      ]
     },
     "metadata": {},
     "output_type": "display_data"
    }
   ],
   "source": [
    "\n",
    "data['Fare'] = data['Fare'].apply(lambda x: max(0, x))\n",
    "\n",
    "\n",
    "data['Survived_Label'] = data['Survived'].map({0: 'Não Sobreviveu', 1: 'Sobreviveu'})\n",
    "\n",
    "\n",
    "plt.figure(figsize=(8, 6)) \n",
    "sns.boxplot(data=data, x='Survived_Label', y='Fare', palette='viridis')\n",
    "\n",
    "\n",
    "plt.title('Distribuição de Fare por Sobrevivência', fontsize=16)\n",
    "plt.xlabel('Status de Sobrevivência', fontsize=12)\n",
    "plt.ylabel('Fare', fontsize=12)\n",
    "\n",
    "\n",
    "plt.grid(axis='y', alpha=0.75)\n",
    "\n",
    "\n",
    "plt.tight_layout()\n",
    "\n",
    "\n",
    "plt.show()"
   ]
  },
  {
   "cell_type": "markdown",
   "id": "7b92610b",
   "metadata": {},
   "source": [
    "Vou usar fare mesmo como variavel, acho interessante usar scaling para lidar com outliers. Vou usar o RobustScaler do sklearn, vai subtrair a mediana dos valores e dividir pelo IQR. Dá para usar QuantileTransformer também, mas como o objetivo do case não é performance do modelo, não vou explorar essa opção."
   ]
  },
  {
   "cell_type": "markdown",
   "id": "be727c00",
   "metadata": {},
   "source": [
    "### Exploração de relação de sibsp e parch com chances de sobrevivência"
   ]
  },
  {
   "cell_type": "code",
   "execution_count": 21,
   "id": "e514763e",
   "metadata": {},
   "outputs": [
    {
     "data": {
      "image/png": "[encoded data removed]",
      "text/plain": [
       "<Figure size 1200x500 with 2 Axes>"
      ]
     },
     "metadata": {},
     "output_type": "display_data"
    }
   ],
   "source": [
    "fig, axes = plt.subplots(1, 2, figsize=(12, 5))\n",
    "\n",
    "data['SibSp'].hist(ax=axes[0]) \n",
    "axes[0].set_title('Distribuição de SibSp')\n",
    "axes[0].set_xlabel('Numero de irmaos/Esposos')\n",
    "axes[0].set_ylabel('Frequencia')\n",
    "axes[0].grid(axis='y', alpha=0.75)\n",
    "\n",
    "\n",
    "data['Parch'].hist(ax=axes[1]) \n",
    "axes[1].set_title('Distribuição de Parch')\n",
    "axes[1].set_xlabel('Numero de Pais/Crianças')\n",
    "axes[1].set_ylabel('Frequencia')\n",
    "axes[1].grid(axis='y', alpha=0.75)\n",
    "\n",
    "\n",
    "plt.tight_layout()\n",
    "\n",
    "\n",
    "plt.show()"
   ]
  },
  {
   "cell_type": "markdown",
   "id": "69e51346",
   "metadata": {},
   "source": [
    "Tem muita gente sozinha e não parece fazer sentido alto grau de diferenciação entre por exemplo entre alguém com 2 acompanhates ou 3. Vou simplificar essas informações. Vou somar as duas, se for 0, a pessoa tá sozinha e maior que 1, acompanhada. Depois for verificar qual a relação disso com sobrevivência."
   ]
  },
  {
   "cell_type": "code",
   "execution_count": 22,
   "id": "dedfae50",
   "metadata": {},
   "outputs": [
    {
     "name": "stdout",
     "output_type": "stream",
     "text": [
      "\n",
      "--- Contagens de Sobrevivência por IsAlone ---\n",
      "Survived     0    1\n",
      "IsAlone            \n",
      "Alone      374  163\n",
      "Not Alone  175  179\n",
      "\n",
      "--- Porcentagens de Sobrevivência  por IsAlone  ---\n",
      "Survived       0      1\n",
      "IsAlone                \n",
      "Alone      69.65  30.35\n",
      "Not Alone  49.44  50.56\n"
     ]
    }
   ],
   "source": [
    "df = data.copy()\n",
    "\n",
    "df['FamilySize'] = df['SibSp'] + df['Parch'] \n",
    "\n",
    "\n",
    "df['IsAlone'] = np.where(df['FamilySize'] == 0, 'Alone', 'Not Alone')\n",
    "\n",
    "\n",
    "is_alone_survival_counts = pd.crosstab(df['IsAlone'], df['Survived'])\n",
    "print(\"\\n--- Contagens de Sobrevivência por IsAlone ---\")\n",
    "print(is_alone_survival_counts)\n",
    "\n",
    "\n",
    "is_alone_survival_percentages = pd.crosstab(df['IsAlone'], df['Survived'], normalize='index') * 100\n",
    "print(\"\\n--- Porcentagens de Sobrevivência  por IsAlone  ---\")\n",
    "print(is_alone_survival_percentages.round(2))"
   ]
  },
  {
   "cell_type": "markdown",
   "id": "cbaf4968",
   "metadata": {},
   "source": [
    "Vou usar essa abordagem mesmo, ela extrai mais significado das duas colunas"
   ]
  },
  {
   "cell_type": "markdown",
   "id": "a6ad3882",
   "metadata": {},
   "source": [
    "### Confirmação de relação de PClass com chances de sobrevivência"
   ]
  },
  {
   "cell_type": "code",
   "execution_count": 23,
   "id": "ab0ffa40",
   "metadata": {},
   "outputs": [
    {
     "name": "stdout",
     "output_type": "stream",
     "text": [
      "\n",
      "Contagens:\n",
      "Survived    0    1\n",
      "Pclass            \n",
      "1          80  136\n",
      "2          97   87\n",
      "3         372  119\n",
      "\n",
      "Totais:\n",
      "Pclass\n",
      "1    216\n",
      "2    184\n",
      "3    491\n",
      "dtype: int64\n",
      "\n",
      "Porcentagens:\n",
      "Survived         0         1\n",
      "Pclass                      \n",
      "1         0.370370  0.629630\n",
      "2         0.527174  0.472826\n",
      "3         0.757637  0.242363\n"
     ]
    }
   ],
   "source": [
    "survival_counts = data.groupby(['Pclass', 'Survived']).size().unstack(fill_value=0)\n",
    "print(\"\\nContagens:\")\n",
    "print(survival_counts)\n",
    "\n",
    "# Totais\n",
    "row_totals = survival_counts.sum(axis=1)\n",
    "print(\"\\nTotais:\")\n",
    "print(row_totals)\n",
    "\n",
    "# Porcentagens\n",
    "survival_percentages = survival_counts.div(row_totals, axis=0)\n",
    "print(\"\\nPorcentagens:\")\n",
    "print(survival_percentages)"
   ]
  },
  {
   "cell_type": "markdown",
   "id": "e913f321",
   "metadata": {},
   "source": [
    "Confirmado!Pclass faz diferença"
   ]
  },
  {
   "cell_type": "markdown",
   "id": "7189ff7d",
   "metadata": {},
   "source": [
    "# Conclusões da Etapa 1 \n",
    "\n",
    "- Concluimos que nossa pipeline de dados tem que fazer o seguinte:\n",
    "  1. Dropar PassengerId, Nome, Ticket, Cabin e Embarked\n",
    "\n",
    "  2. A coluna de genero do passageiro tem que vai codificar male em 0 e female em 1\n",
    "  \n",
    "  3. A coluna de idade vai dividir passageiros em grupos de menores que 18 e maiores que 18\n",
    "  \n",
    "  4. A coluna Fare vai passar por scaling usando RobustScaler\n",
    "  \n",
    "  5. As colunas SibSp e Parch serão somadas e convertidas em categorias Alone (0) e Not Alone (1)\n",
    "\n",
    "- Antes de treinar modelo, imputaremos a mediana para a idades faltantes"
   ]
  },
  {
   "cell_type": "markdown",
   "id": "bfb4d352",
   "metadata": {},
   "source": [
    "# Etapa2"
   ]
  },
  {
   "cell_type": "markdown",
   "id": "aa7a5063",
   "metadata": {},
   "source": [
    "## Plano da Etapa 2\n",
    "\n",
    "1. Criar Custom Transformers para montar Pipeline do Sklearn\n",
    "\n",
    "2. Preparar dados de treinamento e validação\n",
    "\n",
    "3. Criar pipeline de treinamento\n",
    "\n",
    "4. Treinar modelos e logar experimentos no Mlflow."
   ]
  },
  {
   "cell_type": "code",
   "execution_count": 24,
   "id": "a114c1fd",
   "metadata": {},
   "outputs": [],
   "source": [
    "from sklearn.model_selection import train_test_split\n",
    "from sklearn.pipeline import Pipeline\n",
    "from sklearn.compose import ColumnTransformer\n",
    "from sklearn.preprocessing import RobustScaler, OrdinalEncoder\n",
    "from sklearn.impute import SimpleImputer\n",
    "from sklearn.base import BaseEstimator, TransformerMixin"
   ]
  },
  {
   "cell_type": "markdown",
   "id": "ec8b2de1",
   "metadata": {},
   "source": [
    "### Criação de Custom Transformers"
   ]
  },
  {
   "cell_type": "code",
   "execution_count": 25,
   "id": "b89a7625",
   "metadata": {},
   "outputs": [],
   "source": [
    "# class AgeBinner(BaseEstimator, TransformerMixin):\n",
    "#     def fit(self, X, y=None):\n",
    "#         return self\n",
    "#     def transform(self, X):\n",
    "#         return (X <= 18).astype(int)\n",
    "\n",
    "# class AloneFeatureCreator(BaseEstimator, TransformerMixin):\n",
    "#     def fit(self, X, y=None):\n",
    "#         return self\n",
    "#     def transform(self, X):\n",
    "#         X_copy = X.copy()\n",
    "#         X_copy['Alone'] = (X_copy['SibSp'] + X_copy['Parch'] == 0).astype(int)\n",
    "#         X_copy = X_copy.drop(columns=['SibSp', 'Parch']) \n",
    "#         return X_copy"
   ]
  },
  {
   "cell_type": "markdown",
   "id": "4b2dddec",
   "metadata": {},
   "source": [
    "Esses custom transformers foram movidos para o diretório do app por uma questão de contexto do joblib na criação do docker, agora eles são importados do app.custom_transformers"
   ]
  },
  {
   "cell_type": "markdown",
   "id": "ca30c600",
   "metadata": {},
   "source": [
    "### Preparação de dados de treinamento"
   ]
  },
  {
   "cell_type": "code",
   "execution_count": 26,
   "id": "63c52ac0",
   "metadata": {},
   "outputs": [
    {
     "name": "stdout",
     "output_type": "stream",
     "text": [
      "<class 'pandas.core.frame.DataFrame'>\n",
      "RangeIndex: 891 entries, 0 to 890\n",
      "Data columns (total 12 columns):\n",
      " #   Column       Non-Null Count  Dtype  \n",
      "---  ------       --------------  -----  \n",
      " 0   PassengerId  891 non-null    int64  \n",
      " 1   Survived     891 non-null    int64  \n",
      " 2   Pclass       891 non-null    int64  \n",
      " 3   Name         891 non-null    object \n",
      " 4   Sex          891 non-null    object \n",
      " 5   Age          891 non-null    float64\n",
      " 6   SibSp        891 non-null    int64  \n",
      " 7   Parch        891 non-null    int64  \n",
      " 8   Ticket       891 non-null    object \n",
      " 9   Fare         891 non-null    float64\n",
      " 10  Cabin        204 non-null    object \n",
      " 11  Embarked     889 non-null    object \n",
      "dtypes: float64(2), int64(5), object(5)\n",
      "memory usage: 83.7+ KB\n"
     ]
    }
   ],
   "source": [
    "dados = pd.read_csv(\"../data/Titanic-Dataset.csv\")\n",
    "\n",
    "#Imputar mediana em dados que faltam, fazemos isso antes do split para evitar data leakage\n",
    "age_median = dados['Age'].median()\n",
    "dados['Age'] = dados['Age'].fillna(age_median)\n",
    "\n",
    "dados.info()"
   ]
  },
  {
   "cell_type": "markdown",
   "id": "0af0ae26",
   "metadata": {},
   "source": [
    "Todos os dados que vamos usar estão completos (891 valores)"
   ]
  },
  {
   "cell_type": "code",
   "execution_count": 27,
   "id": "4d11260e",
   "metadata": {},
   "outputs": [],
   "source": [
    "# Divisão dos dados de treinamento e teste \n",
    "X = dados.drop('Survived', axis=1)\n",
    "y = dados['Survived']\n",
    "\n",
    "X_train, X_test, y_train, y_test = train_test_split(X, y, test_size=0.2, random_state=42)"
   ]
  },
  {
   "cell_type": "markdown",
   "id": "c241e033",
   "metadata": {},
   "source": [
    "### Preparo do pipeline de pré processamento"
   ]
  },
  {
   "cell_type": "code",
   "execution_count": 28,
   "id": "437023a3",
   "metadata": {},
   "outputs": [],
   "source": [
    "# Transformador numerico para escalar fare\n",
    "numerical_transformer = Pipeline(steps=[\n",
    "    ('scaler', RobustScaler())\n",
    "])\n",
    "\n",
    "# Transformador categorico para genero\n",
    "categorical_transformer = Pipeline(steps=[\n",
    "    ('encoder', OrdinalEncoder(categories=[['male', 'female']])) \n",
    "])\n",
    "\n",
    "# Tranformador para Idade \n",
    "age_transformer = Pipeline(steps=[\n",
    "    ('age_binner', AgeBinner())\n",
    "])\n",
    "\n",
    "\n",
    "# Full pipeline de preprocessamento\n",
    "data_preprocessing_pipeline = Pipeline(steps=[\n",
    "    ('alone_feature_creator', AloneFeatureCreator()), # Cria coluna Alone e dropa SibSp e Parch\n",
    "    ('column_transformer', ColumnTransformer(\n",
    "        transformers=[\n",
    "            ('drop_cols', 'drop', ['Name', 'Cabin', 'Embarked', 'PassengerId','Ticket']), # Dropa colunas desnecessárias\n",
    "            ('sex_encode', categorical_transformer, ['Sex']),\n",
    "            ('age_bin', age_transformer, ['Age']),\n",
    "            ('fare_scale', numerical_transformer, ['Fare'])\n",
    "        ],\n",
    "        remainder='passthrough' # Passa o resto\n",
    "    ))\n",
    "])"
   ]
  },
  {
   "cell_type": "markdown",
   "id": "3ece2c95",
   "metadata": {},
   "source": [
    "### Inclusão de modelos no pipeline e treinamento com mlflow"
   ]
  },
  {
   "cell_type": "code",
   "execution_count": 29,
   "id": "121a0ec1",
   "metadata": {},
   "outputs": [],
   "source": [
    "import mlflow\n",
    "import mlflow.sklearn\n",
    "from sklearn.linear_model import LogisticRegression\n",
    "from sklearn.ensemble import RandomForestClassifier\n",
    "from xgboost import XGBClassifier \n",
    "from sklearn.metrics import accuracy_score, precision_score, recall_score, f1_score\n",
    "from mlflow.models import infer_signature\n",
    "import os\n",
    "import joblib"
   ]
  },
  {
   "cell_type": "code",
   "execution_count": 30,
   "id": "47ab3b73",
   "metadata": {},
   "outputs": [
    {
     "name": "stderr",
     "output_type": "stream",
     "text": [
      "/home/fu2re/Documents/titanic_api/venv/lib/python3.12/site-packages/sklearn/pipeline.py:61: FutureWarning: This Pipeline instance is not fitted yet. Call 'fit' with appropriate arguments before using other methods such as transform, predict, etc. This will raise an error in 1.8 instead of the current warning.\n",
      "  warnings.warn(\n",
      "/home/fu2re/Documents/titanic_api/venv/lib/python3.12/site-packages/sklearn/pipeline.py:61: FutureWarning: This Pipeline instance is not fitted yet. Call 'fit' with appropriate arguments before using other methods such as transform, predict, etc. This will raise an error in 1.8 instead of the current warning.\n",
      "  warnings.warn(\n",
      "/home/fu2re/Documents/titanic_api/venv/lib/python3.12/site-packages/mlflow/types/utils.py:452: UserWarning: Hint: Inferred schema contains integer column(s). Integer columns in Python cannot represent missing values. If your input data contains missing values at inference time, it will be encoded as floats and will cause a schema enforcement error. The best way to avoid this problem is to infer the model schema based on a realistic data sample (training dataset) that includes missing values. Alternatively, you can declare integer columns as doubles (float64) whenever these columns may have missing values. See `Handling Integers With Missing Values <https://www.mlflow.org/docs/latest/models.html#handling-integers-with-missing-values>`_ for more details.\n",
      "  warnings.warn(\n",
      "2025/07/20 12:33:17 WARNING mlflow.models.model: `artifact_path` is deprecated. Please use `name` instead.\n"
     ]
    },
    {
     "name": "stdout",
     "output_type": "stream",
     "text": [
      "\n",
      "--- Processando modelo: LogisticRegression ---\n",
      " Treinamento completo\n",
      "Modelo exportado com sucesso para: ../saved_models/LogisticRegression.joblib\n",
      "Metricas disponiveis no MLFlow: {'accuracy': 0.7988826815642458, 'precision': 0.7878787878787878, 'recall': 0.7027027027027027, 'f1_score': 0.7428571428571429}\n"
     ]
    },
    {
     "name": "stderr",
     "output_type": "stream",
     "text": [
      "/home/fu2re/Documents/titanic_api/venv/lib/python3.12/site-packages/sklearn/pipeline.py:61: FutureWarning: This Pipeline instance is not fitted yet. Call 'fit' with appropriate arguments before using other methods such as transform, predict, etc. This will raise an error in 1.8 instead of the current warning.\n",
      "  warnings.warn(\n",
      "/home/fu2re/Documents/titanic_api/venv/lib/python3.12/site-packages/sklearn/pipeline.py:61: FutureWarning: This Pipeline instance is not fitted yet. Call 'fit' with appropriate arguments before using other methods such as transform, predict, etc. This will raise an error in 1.8 instead of the current warning.\n",
      "  warnings.warn(\n"
     ]
    },
    {
     "name": "stdout",
     "output_type": "stream",
     "text": [
      "Artefato do modelo carregado com sucesso para MLflow com Run ID: 32c25d73fbc94b158c83f42ab77a51c5\n",
      "\n",
      "--- Processando modelo: RandomForestClassifier ---\n",
      " Treinamento completo\n",
      "Modelo exportado com sucesso para: ../saved_models/RandomForestClassifier.joblib\n",
      "Metricas disponiveis no MLFlow: {'accuracy': 0.8100558659217877, 'precision': 0.7857142857142857, 'recall': 0.7432432432432432, 'f1_score': 0.7638888888888888}\n"
     ]
    },
    {
     "name": "stderr",
     "output_type": "stream",
     "text": [
      "/home/fu2re/Documents/titanic_api/venv/lib/python3.12/site-packages/sklearn/pipeline.py:61: FutureWarning: This Pipeline instance is not fitted yet. Call 'fit' with appropriate arguments before using other methods such as transform, predict, etc. This will raise an error in 1.8 instead of the current warning.\n",
      "  warnings.warn(\n",
      "/home/fu2re/Documents/titanic_api/venv/lib/python3.12/site-packages/mlflow/types/utils.py:452: UserWarning: Hint: Inferred schema contains integer column(s). Integer columns in Python cannot represent missing values. If your input data contains missing values at inference time, it will be encoded as floats and will cause a schema enforcement error. The best way to avoid this problem is to infer the model schema based on a realistic data sample (training dataset) that includes missing values. Alternatively, you can declare integer columns as doubles (float64) whenever these columns may have missing values. See `Handling Integers With Missing Values <https://www.mlflow.org/docs/latest/models.html#handling-integers-with-missing-values>`_ for more details.\n",
      "  warnings.warn(\n",
      "2025/07/20 12:33:19 WARNING mlflow.models.model: `artifact_path` is deprecated. Please use `name` instead.\n",
      "/home/fu2re/Documents/titanic_api/venv/lib/python3.12/site-packages/sklearn/pipeline.py:61: FutureWarning: This Pipeline instance is not fitted yet. Call 'fit' with appropriate arguments before using other methods such as transform, predict, etc. This will raise an error in 1.8 instead of the current warning.\n",
      "  warnings.warn(\n"
     ]
    },
    {
     "name": "stdout",
     "output_type": "stream",
     "text": [
      "Artefato do modelo carregado com sucesso para MLflow com Run ID: 36b3565d987849fb820aeaa507a1fc66\n",
      "\n",
      "--- Processando modelo: XGBoostClassifier ---\n"
     ]
    },
    {
     "name": "stderr",
     "output_type": "stream",
     "text": [
      "/home/fu2re/Documents/titanic_api/venv/lib/python3.12/site-packages/xgboost/training.py:183: UserWarning: [12:33:24] WARNING: /workspace/src/learner.cc:738: \n",
      "Parameters: { \"use_label_encoder\" } are not used.\n",
      "\n",
      "  bst.update(dtrain, iteration=i, fobj=obj)\n",
      "/home/fu2re/Documents/titanic_api/venv/lib/python3.12/site-packages/sklearn/pipeline.py:61: FutureWarning: This Pipeline instance is not fitted yet. Call 'fit' with appropriate arguments before using other methods such as transform, predict, etc. This will raise an error in 1.8 instead of the current warning.\n",
      "  warnings.warn(\n",
      "/home/fu2re/Documents/titanic_api/venv/lib/python3.12/site-packages/sklearn/pipeline.py:61: FutureWarning: This Pipeline instance is not fitted yet. Call 'fit' with appropriate arguments before using other methods such as transform, predict, etc. This will raise an error in 1.8 instead of the current warning.\n",
      "  warnings.warn(\n",
      "/home/fu2re/Documents/titanic_api/venv/lib/python3.12/site-packages/mlflow/types/utils.py:452: UserWarning: Hint: Inferred schema contains integer column(s). Integer columns in Python cannot represent missing values. If your input data contains missing values at inference time, it will be encoded as floats and will cause a schema enforcement error. The best way to avoid this problem is to infer the model schema based on a realistic data sample (training dataset) that includes missing values. Alternatively, you can declare integer columns as doubles (float64) whenever these columns may have missing values. See `Handling Integers With Missing Values <https://www.mlflow.org/docs/latest/models.html#handling-integers-with-missing-values>`_ for more details.\n",
      "  warnings.warn(\n",
      "2025/07/20 12:33:24 WARNING mlflow.models.model: `artifact_path` is deprecated. Please use `name` instead.\n"
     ]
    },
    {
     "name": "stdout",
     "output_type": "stream",
     "text": [
      " Treinamento completo\n",
      "Modelo exportado com sucesso para: ../saved_models/XGBoostClassifier.joblib\n",
      "Metricas disponiveis no MLFlow: {'accuracy': 0.8212290502793296, 'precision': 0.7916666666666666, 'recall': 0.7702702702702703, 'f1_score': 0.7808219178082192}\n",
      "Artefato do modelo carregado com sucesso para MLflow com Run ID: ce75cec6b9dd4337adb820f5950b9349\n",
      "\n",
      "--- Todas as runs e exports realizados com sucesso ---\n"
     ]
    },
    {
     "name": "stderr",
     "output_type": "stream",
     "text": [
      "/home/fu2re/Documents/titanic_api/venv/lib/python3.12/site-packages/sklearn/pipeline.py:61: FutureWarning: This Pipeline instance is not fitted yet. Call 'fit' with appropriate arguments before using other methods such as transform, predict, etc. This will raise an error in 1.8 instead of the current warning.\n",
      "  warnings.warn(\n"
     ]
    }
   ],
   "source": [
    "models = {\n",
    "    \"LogisticRegression\": LogisticRegression(random_state=42, solver='liblinear'), # Added solver for clarity\n",
    "    \"RandomForestClassifier\": RandomForestClassifier(random_state=42, n_estimators=100),\n",
    "    \"XGBoostClassifier\": XGBClassifier(random_state=42, use_label_encoder=False, eval_metric='logloss') # Suppress warning\n",
    "}\n",
    "\n",
    "\n",
    "mlflow.set_tracking_uri(\"file:./mlruns\")\n",
    "mlflow.set_experiment(\"Titanic Survival Prediction - Multi-Model\")\n",
    "\n",
    "\n",
    "output_dir = \"../saved_models\"\n",
    "os.makedirs(output_dir, exist_ok=True)\n",
    "\n",
    "for model_name, model_instance in models.items():\n",
    "    with mlflow.start_run(run_name=f\"{model_name}_Experiment\"):\n",
    "        print(f\"\\n--- Processando modelo: {model_name} ---\")\n",
    "\n",
    "        # Combina pipeline de processamento de dados com classificador\n",
    "        model_pipeline = Pipeline(steps=[\n",
    "            ('preprocessor', data_preprocessing_pipeline),\n",
    "            ('classifier', model_instance)\n",
    "        ])\n",
    "\n",
    "        # Treina o modelo\n",
    "        model_pipeline.fit(X_train, y_train)\n",
    "        print(f\" Treinamento completo\")\n",
    "\n",
    "        # --- Export dos modelos para a API ---\n",
    "        joblib_path = os.path.join(output_dir, f\"{model_name}.joblib\")\n",
    "        joblib.dump(model_pipeline, joblib_path)\n",
    "        print(f\"Modelo exportado com sucesso para: {joblib_path}\")\n",
    "\n",
    "        \n",
    "        y_pred = model_pipeline.predict(X_test)\n",
    "        \n",
    "        \n",
    "        metrics = {\n",
    "            \"accuracy\": accuracy_score(y_test, y_pred),\n",
    "            \"precision\": precision_score(y_test, y_pred),\n",
    "            \"recall\": recall_score(y_test, y_pred),\n",
    "            \"f1_score\": f1_score(y_test, y_pred)\n",
    "        }\n",
    "        \n",
    "        \n",
    "        mlflow.log_params(model_instance.get_params())\n",
    "        mlflow.log_metrics(metrics)\n",
    "        print(f\"Metricas disponiveis no MLFlow: {metrics}\")\n",
    "\n",
    "        # --- Export de exemplo de input para o mlflow ---\n",
    "        input_example = X_train.iloc[[0]]\n",
    "        signature = infer_signature(input_example, model_pipeline.predict(input_example))\n",
    "        \n",
    "        mlflow.sklearn.log_model(\n",
    "            sk_model=model_pipeline,\n",
    "            artifact_path=f\"{model_name}_model\",\n",
    "            signature=signature,\n",
    "            input_example=input_example\n",
    "        )\n",
    "        print(f\"Artefato do modelo carregado com sucesso para MLflow com Run ID: {mlflow.active_run().info.run_id}\")\n",
    "\n",
    "print(\"\\n--- Todas as runs e exports realizados com sucesso ---\")"
   ]
  }
 ],
 "metadata": {
  "kernelspec": {
   "display_name": "venv",
   "language": "python",
   "name": "python3"
  },
  "language_info": {
   "codemirror_mode": {
    "name": "ipython",
    "version": 3
   },
   "file_extension": ".py",
   "mimetype": "text/x-python",
   "name": "python",
   "nbconvert_exporter": "python",
   "pygments_lexer": "ipython3",
   "version": "3.12.3"
  }
 },
 "nbformat": 4,
 "nbformat_minor": 5
}
